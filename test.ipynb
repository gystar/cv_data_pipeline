{
 "cells": [
  {
   "cell_type": "code",
   "execution_count": null,
   "metadata": {},
   "outputs": [],
   "source": [
    "# import requests\n",
    "# from PIL import Image\n",
    "# from io import BytesIO\n",
    "# prefix = 'https://dragondiffusion-1316760375.cos.ap-guangzhou.myqcloud.com/'"
   ]
  },
  {
   "cell_type": "code",
   "execution_count": null,
   "metadata": {},
   "outputs": [],
   "source": [
    "import os\n",
    "os.environ['https_proxy'] = '127.0.0.1:7890'\n",
    "from components.summaryx.summaryx import Summaryx\n",
    "\n",
    "x = Summaryx()"
   ]
  },
  {
   "cell_type": "code",
   "execution_count": null,
   "metadata": {},
   "outputs": [],
   "source": [
    "result = x.summary('https://dragondiffusion-1316760375.cos.ap-guangzhou.myqcloud.com/18k/5.53108692.png')"
   ]
  },
  {
   "cell_type": "code",
   "execution_count": null,
   "metadata": {},
   "outputs": [],
   "source": [
    "result.split('<>')"
   ]
  },
  {
   "cell_type": "code",
   "execution_count": null,
   "metadata": {},
   "outputs": [],
   "source": [
    "from pathlib import Path\n",
    "import os,sys\n",
    "import pandas as pd\n",
    "\n",
    "scored_images_dir = Path(\"/data0/zh/01/laion_coco/scored/chunk_0\") \n",
    "#scored_images_dir = Path(\"/home/starmage/data_pipeline/scored\") \n",
    "scores = []\n",
    "full_paths = []\n",
    "for f in os.listdir(scored_images_dir):\n",
    "    suffix = f.split(\"_\")[-1]\n",
    "    pos = suffix.rfind(\".\")    \n",
    "    scores.append(float(suffix[:pos]))\n",
    "    full_paths.append(str(scored_images_dir/f))\n",
    "\n",
    "df = pd.DataFrame({\"path\":full_paths, \"score\":scores})\n",
    "    \n",
    "\n",
    "\n"
   ]
  },
  {
   "cell_type": "code",
   "execution_count": null,
   "metadata": {},
   "outputs": [],
   "source": [
    "print(full_paths[0].split(\"_\")[-1])\n",
    "print(scores[0])\n",
    "print(len(df))\n",
    "df.score.hist(bins=50)\n"
   ]
  },
  {
   "cell_type": "code",
   "execution_count": null,
   "metadata": {},
   "outputs": [],
   "source": [
    "df.sort_values(by=[\"score\"], ascending=False, inplace=True)\n",
    "df"
   ]
  },
  {
   "cell_type": "code",
   "execution_count": null,
   "metadata": {},
   "outputs": [],
   "source": [
    "sample_count = int(0.5*len(df))\n",
    "df_sampled = df.iloc[:sample_count]\n",
    "df_sampled.score.hist(bins=50)\n",
    "df_sampled"
   ]
  },
  {
   "cell_type": "code",
   "execution_count": null,
   "metadata": {},
   "outputs": [],
   "source": [
    "import pandas as pd \n",
    "\n",
    "df=pd.DataFrame({\"value\":[1,2,3,4,5]}, index=[5,2,1,4,3])\n",
    "df"
   ]
  },
  {
   "cell_type": "code",
   "execution_count": 1,
   "metadata": {},
   "outputs": [
    {
     "name": "stderr",
     "output_type": "stream",
     "text": [
      "/home/starmage/anaconda3/envs/sd/lib/python3.8/site-packages/tqdm/auto.py:21: TqdmWarning: IProgress not found. Please update jupyter and ipywidgets. See https://ipywidgets.readthedocs.io/en/stable/user_install.html\n",
      "  from .autonotebook import tqdm as notebook_tqdm\n"
     ]
    }
   ],
   "source": [
    "from datasets import load_from_disk"
   ]
  },
  {
   "cell_type": "code",
   "execution_count": 2,
   "metadata": {},
   "outputs": [],
   "source": [
    "ds =load_from_disk(\"./output/chunk_0/\")"
   ]
  },
  {
   "cell_type": "code",
   "execution_count": 3,
   "metadata": {},
   "outputs": [
    {
     "data": {
      "text/plain": [
       "52"
      ]
     },
     "execution_count": 3,
     "metadata": {},
     "output_type": "execute_result"
    }
   ],
   "source": [
    "len(ds)"
   ]
  }
 ],
 "metadata": {
  "kernelspec": {
   "display_name": "lz",
   "language": "python",
   "name": "python3"
  },
  "language_info": {
   "codemirror_mode": {
    "name": "ipython",
    "version": 3
   },
   "file_extension": ".py",
   "mimetype": "text/x-python",
   "name": "python",
   "nbconvert_exporter": "python",
   "pygments_lexer": "ipython3",
   "version": "3.8.18"
  }
 },
 "nbformat": 4,
 "nbformat_minor": 2
}

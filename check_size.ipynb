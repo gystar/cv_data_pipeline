{
 "cells": [
  {
   "cell_type": "code",
   "execution_count": 139,
   "metadata": {},
   "outputs": [
    {
     "name": "stderr",
     "output_type": "stream",
     "text": [
      "100%|██████████| 358/358 [00:00<00:00, 14287.79it/s]"
     ]
    },
    {
     "name": "stdout",
     "output_type": "stream",
     "text": [
      "358\n"
     ]
    },
    {
     "name": "stderr",
     "output_type": "stream",
     "text": [
      "\n"
     ]
    }
   ],
   "source": [
    "from tqdm import tqdm\n",
    "from PIL import Image\n",
    "import os\n",
    "src_dir = \"/data/lz/data/6、插画描线风/images\"\n",
    "# src_dir = \"/data/lz/data/data_pipeline_test/images\"\n",
    "count = 0\n",
    "for filename in tqdm(os.listdir(src_dir)):\n",
    "    if filename.endswith(('.jpg', '.jpeg', '.png')):\n",
    "        img_path = os.path.join(src_dir, filename)\n",
    "        try:\n",
    "            pil_image = Image.open(img_path)\n",
    "            width,height = pil_image.size\n",
    "            # if width == 1024 and height == 1024:\n",
    "            # if width/height<=2 and height/width<=2:\n",
    "            if True:\n",
    "                count += 1\n",
    "        except Exception as e:\n",
    "            print(e)\n",
    "            break\n",
    "print(count)\n",
    "# 5533  \n",
    "# 1400      "
   ]
  },
  {
   "cell_type": "code",
   "execution_count": 137,
   "metadata": {},
   "outputs": [
    {
     "name": "stdout",
     "output_type": "stream",
     "text": [
      "93\n"
     ]
    }
   ],
   "source": [
    "from tqdm import tqdm\n",
    "from PIL import Image\n",
    "import os\n",
    "import json\n",
    "with open('/data/lz/data/6、插画描线风/result_map_gpt4v.json','r') as f:\n",
    "    data = json.load(f)\n",
    "f.close()\n",
    "print(len(data))"
   ]
  }
 ],
 "metadata": {
  "kernelspec": {
   "display_name": "lz",
   "language": "python",
   "name": "python3"
  },
  "language_info": {
   "codemirror_mode": {
    "name": "ipython",
    "version": 3
   },
   "file_extension": ".py",
   "mimetype": "text/x-python",
   "name": "python",
   "nbconvert_exporter": "python",
   "pygments_lexer": "ipython3",
   "version": "3.10.13"
  }
 },
 "nbformat": 4,
 "nbformat_minor": 2
}
